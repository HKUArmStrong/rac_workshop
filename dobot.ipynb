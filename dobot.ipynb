{
 "cells": [
  {
   "cell_type": "markdown",
   "id": "ad643301",
   "metadata": {
    "vscode": {
     "languageId": "markdown"
    }
   },
   "source": [
    "# Dobot Magician Robot Arm Control Tutorial\n",
    "This is the tutorial for the dobot magician robot arm. The code below demonstrates how to control the robot arm using Python.\n",
    "\n",
    "## Learning Objectives\n",
    "- Understand how to connect to the Dobot Magician robot arm.\n",
    "- Learn how to move the robot arm to specific positions.\n",
    "- Explore how to control the robot arm's gripper.\n",
    "\n",
    "## Prerequisites\n",
    "- Basic knowledge of Python programming.\n",
    "\n",
    "## Outcomes\n",
    "- A program that can control the Dobot Magician robot arm to move to specific positions and pick up objects."
   ]
  },
  {
   "cell_type": "markdown",
   "id": "de47cc47",
   "metadata": {},
   "source": [
    "### Practice 1"
   ]
  },
  {
   "cell_type": "code",
   "execution_count": null,
   "id": "52f791f7",
   "metadata": {},
   "outputs": [],
   "source": [
    "# Find the port of the Dobot Magician\n",
    "from serial.tools import list_ports\n",
    "import time\n",
    "\n",
    "available_ports = list_ports.comports()\n",
    "port = available_ports[0].device\n",
    "def find_robot_arm_port():\n",
    "    print(\"Step 1: Please ensure the Dobot Magician is plugged in, then press Enter.\")\n",
    "    input()\n",
    "    ports_before = {port.device for port in list_ports.comports()}\n",
    "\n",
    "    print(\"Step 2: Now unplug the Dobot Magician, then press Enter.\")\n",
    "    input()\n",
    "    ports_after = {port.device for port in list_ports.comports()}\n",
    "\n",
    "    diff_ports = ports_before - ports_after\n",
    "    if not diff_ports:\n",
    "        print(\"No port difference detected. Please try again.\")\n",
    "        return None\n",
    "    robot_port = diff_ports.pop()\n",
    "    print(f\"Dobot Magician detected on port: {robot_port}\")\n",
    "    return robot_port\n",
    "\n",
    "port = find_robot_arm_port()\n",
    "print(f\"Using port: {port}\")"
   ]
  },
  {
   "cell_type": "markdown",
   "id": "abe70cc0",
   "metadata": {},
   "source": [
    "### Practice 2"
   ]
  },
  {
   "cell_type": "code",
   "execution_count": null,
   "id": "3c125e33",
   "metadata": {},
   "outputs": [],
   "source": [
    "from pydobotplus import Dobot, CustomPosition\n",
    "\n",
    "# Home the Dobot Magician\n",
    "my_dobot = Dobot(port=\"COM4\")\n",
    "my_dobot.home()\n",
    "\n",
    "print(\"Dobot Magician is homing.\")"
   ]
  },
  {
   "cell_type": "markdown",
   "id": "075101e1",
   "metadata": {},
   "source": [
    "The above step is to make sure that the dobot is connected correctly, and the robot arm is homing to its initial position.  \n",
    "\n",
    "Now, let's write the code to control the robot arm. You will learn how to move the robot arm, use the end effector (gripper), and check the pose of the robot arm.  \n",
    "\n",
    "To get the current position of the robot arm, you can use the `get_pose()` method. This will return the current position of the robot arm in Cartesian coordinates (x, y, z) and the orientation.  \n",
    "\n",
    "### Example Code to Get the Current Pose of the Robot Arm\n",
    "```python\n",
    "pose = my_dobot.get_pose().position\n",
    "print(f\"Current position of the robot arm - x:{pose.x}, y:{pose.y}, z:{pose.z}, r:{pose.r}\")\n",
    "```\n",
    "\n",
    "### Example Code to Move the Robot Arm\n",
    "```python\n",
    "my_dobot.move_to(x, y, z, r, wait=True)\n",
    "```\n",
    "\n",
    "### Example Code to Control the Gripper\n",
    "```python\n",
    "my_dobot.grip(True) # Open the gripper\n",
    "my_dobot.grip(False)  # Close the gripper\n",
    "```"
   ]
  },
  {
   "cell_type": "markdown",
   "id": "27608ba5",
   "metadata": {},
   "source": [
    "### Practice 3a"
   ]
  },
  {
   "cell_type": "code",
   "execution_count": null,
   "id": "0b608efb",
   "metadata": {},
   "outputs": [],
   "source": [
    "import time\n",
    "\n",
    "# After running this code, the robot arm should move forward for 50mm\n",
    "print(\"Original position of the robot arm is:\", my_dobot.get_pose().position)\n",
    "my_dobot.move_to(300, 0, 50, 0, wait=True)\n",
    "print(\"Moved robot arm to position:\", my_dobot.get_pose().position)"
   ]
  },
  {
   "cell_type": "markdown",
   "id": "444a6c68",
   "metadata": {},
   "source": [
    "### Practice 3b"
   ]
  },
  {
   "cell_type": "code",
   "execution_count": null,
   "id": "69979873",
   "metadata": {},
   "outputs": [],
   "source": [
    "# Close the gripper\n",
    "my_dobot.grip(True)\n",
    "print(\"Gripper is closed.\")\n",
    "time.sleep(2)\n",
    "\n",
    "# Open the gripper\n",
    "my_dobot.grip(False)\n",
    "print(\"Gripper is opened.\")"
   ]
  },
  {
   "cell_type": "markdown",
   "id": "bbdf8a3c",
   "metadata": {},
   "source": [
    "### Exercise 1\n",
    "Move robotic arm to (100, -200, 50, 0)​"
   ]
  },
  {
   "cell_type": "code",
   "execution_count": null,
   "id": "5019a8f6",
   "metadata": {},
   "outputs": [],
   "source": [
    "# Your code here"
   ]
  },
  {
   "cell_type": "markdown",
   "id": "8b915d5c",
   "metadata": {},
   "source": [
    "### Exercise 2\n",
    "Move robotic arm with the user interface and copy down the final coordinate​​."
   ]
  },
  {
   "cell_type": "code",
   "execution_count": null,
   "id": "785149df",
   "metadata": {},
   "outputs": [],
   "source": [
    "# Your code here"
   ]
  },
  {
   "cell_type": "markdown",
   "id": "a5a24148",
   "metadata": {},
   "source": [
    "### Exercise 3\n",
    "Move the robot arm repeatedly between (100, -200, 50, 0)​ and (-100, 200, 70, 0)"
   ]
  },
  {
   "cell_type": "code",
   "execution_count": null,
   "id": "6dfeb88c",
   "metadata": {},
   "outputs": [],
   "source": [
    "# Your code here"
   ]
  },
  {
   "cell_type": "markdown",
   "id": "c12a9b77",
   "metadata": {},
   "source": [
    "### Exercise 4\n",
    "Move the robot arm between (100, 200, 50, 0)​ and (100, -200, 50, 0) with movl and movj\n",
    "```python\n",
    "# we can choose to use movl\n",
    "my_dobot.move_to(100, 200, 50, 0, mode=dobot.MODE_PTP_MOVL_XYZ)\n",
    "# or movj\n",
    "my_dobot.move_to(100, 200, 50, 0, mode=dobot.MODE_PTP_MOVj_XYZ)\n",
    "```\n",
    "Observe the difference"
   ]
  },
  {
   "cell_type": "code",
   "execution_count": null,
   "id": "f4b6ee20",
   "metadata": {},
   "outputs": [],
   "source": [
    "from pydobotplus import dobotplus as dobot\n",
    "\n",
    "# Using movl\n",
    "# Your code here"
   ]
  },
  {
   "cell_type": "code",
   "execution_count": null,
   "id": "2f4ccbed",
   "metadata": {},
   "outputs": [],
   "source": [
    "from pydobotplus import dobotplus as dobot\n",
    "\n",
    "# Using movj\n",
    "# Your code here"
   ]
  },
  {
   "cell_type": "markdown",
   "id": "ee987e1a",
   "metadata": {},
   "source": [
    "### Exercise 5\n",
    "Prevent collision by using jump_to() movement method (Create this method by yourself)"
   ]
  },
  {
   "cell_type": "code",
   "execution_count": null,
   "id": "a1ccd785",
   "metadata": {},
   "outputs": [],
   "source": [
    "def jump_to(x, y, z, r = 0):\n",
    "    # Your code here"
   ]
  },
  {
   "cell_type": "markdown",
   "id": "b450559f",
   "metadata": {},
   "source": [
    "### Exercise 6\n",
    "Drag the robotics arm to get the coordinate of points\n",
    "Move the end effector to each point in ascending order\n",
    "Prevent collision!!!"
   ]
  },
  {
   "cell_type": "code",
   "execution_count": null,
   "id": "e9192d35",
   "metadata": {},
   "outputs": [],
   "source": [
    "# Your code here"
   ]
  },
  {
   "cell_type": "markdown",
   "id": "e5dff271",
   "metadata": {},
   "source": [
    "### Exercise 7\n",
    "Now is your turn to write the code to control the robot arm.  \n",
    "You task is to move the robot arm to a specific position, and then use the gripper to pick up an object.  \n",
    "Use the `jump_to()` method you have defined in Exercise 5 to move the robot arm, and the `grip()` method to control the gripper.\n",
    "\n",
    "1. Pick the object in a fixed position\n",
    "2. Pick it up and move the dropping zone\n",
    "3. Drop the object and return to home pose"
   ]
  },
  {
   "cell_type": "code",
   "execution_count": null,
   "id": "c9e07ab7",
   "metadata": {},
   "outputs": [],
   "source": [
    "# Your code here"
   ]
  }
 ],
 "metadata": {
  "kernelspec": {
   "display_name": "venv (3.13.7)",
   "language": "python",
   "name": "python3"
  },
  "language_info": {
   "codemirror_mode": {
    "name": "ipython",
    "version": 3
   },
   "file_extension": ".py",
   "mimetype": "text/x-python",
   "name": "python",
   "nbconvert_exporter": "python",
   "pygments_lexer": "ipython3",
   "version": "3.13.7"
  }
 },
 "nbformat": 4,
 "nbformat_minor": 5
}
