{
 "cells": [
  {
   "cell_type": "markdown",
   "id": "ad643301",
   "metadata": {
    "vscode": {
     "languageId": "markdown"
    }
   },
   "source": [
    "# Dobot Magician Robot Arm Control Tutorial\n",
    "This is the tutorial for the dobot magician robot arm. The code below demonstrates how to control the robot arm using Python.\n",
    "\n",
    "## Learning Objectives\n",
    "- Understand how to connect to the Dobot Magician robot arm.\n",
    "- Learn how to move the robot arm to specific positions.\n",
    "- Explore how to control the robot arm's gripper.\n",
    "\n",
    "## Prerequisites\n",
    "- Basic knowledge of Python programming.\n",
    "\n",
    "## Outcomes\n",
    "- A program that can control the Dobot Magician robot arm to move to specific positions and pick up objects."
   ]
  },
  {
   "cell_type": "code",
   "execution_count": 1,
   "id": "52f791f7",
   "metadata": {},
   "outputs": [
    {
     "name": "stdout",
     "output_type": "stream",
     "text": [
      "Step 1: Please ensure the Dobot Magician is plugged in, then press Enter.\n",
      "Step 2: Now unplug the Dobot Magician, then press Enter.\n",
      "Dobot Magician detected on port: /dev/ttyACM0\n",
      "Using port: /dev/ttyACM0\n"
     ]
    }
   ],
   "source": [
    "# Find the port of the Dobot Magician\n",
    "from serial.tools import list_ports\n",
    "from pydobotplus import Dobot, CustomPosition\n",
    "import time\n",
    "\n",
    "available_ports = list_ports.comports()\n",
    "port = available_ports[2].device\n",
    "def find_robot_arm_port():\n",
    "    print(\"Step 1: Please ensure the Dobot Magician is plugged in, then press Enter.\")\n",
    "    input()\n",
    "    ports_before = {port.device for port in list_ports.comports()}\n",
    "\n",
    "    print(\"Step 2: Now unplug the Dobot Magician, then press Enter.\")\n",
    "    input()\n",
    "    ports_after = {port.device for port in list_ports.comports()}\n",
    "\n",
    "    diff_ports = ports_before - ports_after\n",
    "    if not diff_ports:\n",
    "        print(\"No port difference detected. Please try again.\")\n",
    "        return None\n",
    "    robot_port = diff_ports.pop()\n",
    "    print(f\"Dobot Magician detected on port: {robot_port}\")\n",
    "    return robot_port\n",
    "\n",
    "port = find_robot_arm_port()\n",
    "print(f\"Using port: {port}\")"
   ]
  },
  {
   "cell_type": "code",
   "execution_count": null,
   "id": "3c125e33",
   "metadata": {},
   "outputs": [],
   "source": [
    "# Home the Dobot Magician\n",
    "dobot = Dobot(port=port)\n",
    "dobot.home()\n",
    "\n",
    "print(\"Dobot Magician is homing.\")"
   ]
  },
  {
   "cell_type": "markdown",
   "id": "075101e1",
   "metadata": {},
   "source": [
    "The above step is to make sure that the dobot is connected correctly, and the robot arm is homing to its initial position.  \n",
    "\n",
    "Now, let's write the code to control the robot arm. You will learn how to move the robot arm, use the end effector (gripper), and check the pose of the robot arm.  \n",
    "\n",
    "To get the current position of the robot arm, you can use the `get_pose()` method. This will return the current position of the robot arm in Cartesian coordinates (x, y, z) and the orientation.  \n",
    "\n",
    "### Example Code to Get the Current Pose of the Robot Arm\n",
    "```python\n",
    "pose = dobot.get_pose().position\n",
    "print(f\"Current position of the robot arm - x:{pose.x}, y:{pose.y}, z:{pose.z}, r:{pose.r}\")\n",
    "```\n",
    "\n",
    "### Example Code to Move the Robot Arm\n",
    "```python\n",
    "dobot.move_to(x, y, z, r, wait=True)\n",
    "```\n",
    "\n",
    "### Example Code to Control the Gripper\n",
    "```python\n",
    "dobot.grip(True) # Open the gripper\n",
    "dobot.grip(False)  # Close the gripper\n",
    "```"
   ]
  },
  {
   "cell_type": "code",
   "execution_count": null,
   "id": "0b608efb",
   "metadata": {},
   "outputs": [],
   "source": [
    "import time\n",
    "\n",
    "# After running this code, the robot arm should move forward for 50mm\n",
    "print(\"Original position of the robot arm is:\", dobot.get_pose().position)\n",
    "dobot.move_to(300, 0, 50, 0, wait=True)\n",
    "print(\"Moved robot arm to position:\", dobot.get_pose().position)\n",
    "time.sleep(2)\n",
    "\n",
    "# Close the gripper\n",
    "dobot.grip(True)\n",
    "print(\"Gripper is closed.\")\n",
    "time.sleep(2)\n",
    "\n",
    "# Open the gripper\n",
    "dobot.grip(False)\n",
    "print(\"Gripper is opened.\")"
   ]
  },
  {
   "cell_type": "markdown",
   "id": "80e230e6",
   "metadata": {},
   "source": [
    "Now is your turn to write the code to control the robot arm.  \n",
    "You task is to move the robot arm to a specific position, and then use the gripper to pick up an object.  \n",
    "Use the `move_to()` method to move the robot arm, and the `grip()` method to control the gripper."
   ]
  },
  {
   "cell_type": "code",
   "execution_count": null,
   "id": "f388ed28",
   "metadata": {},
   "outputs": [],
   "source": [
    "# Your code here"
   ]
  }
 ],
 "metadata": {
  "kernelspec": {
   "display_name": ".venv",
   "language": "python",
   "name": "python3"
  },
  "language_info": {
   "codemirror_mode": {
    "name": "ipython",
    "version": 3
   },
   "file_extension": ".py",
   "mimetype": "text/x-python",
   "name": "python",
   "nbconvert_exporter": "python",
   "pygments_lexer": "ipython3",
   "version": "3.10.12"
  }
 },
 "nbformat": 4,
 "nbformat_minor": 5
}
