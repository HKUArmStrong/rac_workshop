{
 "cells": [
  {
   "cell_type": "markdown",
   "id": "7c01bc87",
   "metadata": {},
   "source": [
    "# YOLO Tutorial with Ultralytics\n",
    "\n",
    "This interactive tutorial will guide you through using YOLO models with Ultralytics. We'll start with a sample prediction and then move to training an Oriented Bounding Box (OBB) model with YOLOv8m."
   ]
  },
  {
   "cell_type": "code",
   "execution_count": null,
   "id": "62649f80",
   "metadata": {},
   "outputs": [],
   "source": [
    "import ultralytics\n",
    "import os\n",
    "print(\"Ultralytics version:\", ultralytics.__version__)"
   ]
  },
  {
   "cell_type": "markdown",
   "id": "babc6e86",
   "metadata": {},
   "source": [
    "## Sample Prediction\n",
    "\n",
    "Let's start with a simple prediction using a pre-trained YOLOv8 model on a sample image."
   ]
  },
  {
   "cell_type": "code",
   "execution_count": null,
   "id": "74c17c6b",
   "metadata": {},
   "outputs": [],
   "source": [
    "from ultralytics import YOLO\n",
    "from IPython.display import Image\n",
    "\n",
    "# Load a pre-trained YOLOv8 model\n",
    "model = YOLO('yolov8n.pt')  # 'n' for nano, small and fast\n",
    "\n",
    "# Perform prediction on a sample image\n",
    "results = model.predict('https://ultralytics.com/images/bus.jpg', save=True)\n",
    "\n",
    "# Display the results\n",
    "# for result in results:\n",
    "#     result.show()  # This will display the image with bounding boxes\n",
    "\n",
    "# Display the predicted image in the notebook\n",
    "Image(filename='runs/detect/predict2/bus.jpg')"
   ]
  },
  {
   "cell_type": "markdown",
   "id": "1ac34adc",
   "metadata": {},
   "source": [
    "## Training an OBB Model with YOLOv8m\n",
    "\n",
    "Now, let's train an Oriented Bounding Box (OBB) model using YOLOv8m. OBB is useful for detecting objects at various angles.\n",
    "\n",
    "First, prepare your own dataset with OBB annotations in YOLO format. You can use tools like Roboflow to annotate your images, please read our self-learning for the data annotation and downloading the dataset."
   ]
  },
  {
   "cell_type": "code",
   "execution_count": null,
   "id": "33701f19",
   "metadata": {},
   "outputs": [],
   "source": [
    "# Set your dataset path here (path to your data.yaml file)\n",
    "dataset_path = \"path/to/your/data.yaml\"  # Replace with your actual path"
   ]
  },
  {
   "cell_type": "code",
   "execution_count": null,
   "id": "c51edbf3",
   "metadata": {},
   "outputs": [],
   "source": [
    "# Load YOLOv8m OBB model\n",
    "model = YOLO(\"yolov8m-obb.yaml\")\n",
    "\n",
    "# Train the model (using few epochs for demo)\n",
    "results = model.train(data=dataset_path, epochs=50, imgsz=640, project=\"yolo_obb_tutorial\")"
   ]
  },
  {
   "cell_type": "markdown",
   "id": "094f4891",
   "metadata": {},
   "source": [
    "## Testing the Trained Model\n",
    "\n",
    "Now, let's test the trained model on your own image."
   ]
  },
  {
   "cell_type": "code",
   "execution_count": null,
   "id": "3132a559",
   "metadata": {},
   "outputs": [],
   "source": [
    "# Set your test image path here\n",
    "test_image_path = \"path/to/your/test/image.jpg\"  # Replace with your actual image path"
   ]
  },
  {
   "cell_type": "code",
   "execution_count": null,
   "id": "c8aad1e4",
   "metadata": {},
   "outputs": [],
   "source": [
    "# Load the trained model\n",
    "model_path = \"yolo_obb_tutorial/train/weights/best.pt\"\n",
    "trained_model = YOLO(model_path)\n",
    "\n",
    "# Predict on a test image\n",
    "results = trained_model.predict(test_image_path, save=True)\n",
    "\n",
    "# Display results\n",
    "for result in results:\n",
    "    result.show()\n",
    "    # Print OBB details\n",
    "    for i, obb in enumerate(result.obb):\n",
    "        print(f\"OBB {i+1}: {obb.xywhr.cpu().numpy()[0]}\")"
   ]
  }
 ],
 "metadata": {
  "kernelspec": {
   "display_name": ".venv",
   "language": "python",
   "name": "python3"
  },
  "language_info": {
   "codemirror_mode": {
    "name": "ipython",
    "version": 3
   },
   "file_extension": ".py",
   "mimetype": "text/x-python",
   "name": "python",
   "nbconvert_exporter": "python",
   "pygments_lexer": "ipython3",
   "version": "3.9.6"
  }
 },
 "nbformat": 4,
 "nbformat_minor": 5
}
